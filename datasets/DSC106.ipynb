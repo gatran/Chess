{
 "cells": [
  {
   "cell_type": "code",
   "execution_count": 1,
   "metadata": {},
   "outputs": [],
   "source": [
    "import pandas as pd\n",
    "import numpy as np"
   ]
  },
  {
   "cell_type": "code",
   "execution_count": 2,
   "metadata": {},
   "outputs": [],
   "source": [
    "#May 2015 to May 2020, playerbase dataset from FIDE\n",
    "may15_1 = pd.read_fwf('may/blitz_may15frl.txt')\n",
    "may15_2 = pd.read_fwf('may/rapid_may15frl.txt')\n",
    "may15_3 = pd.read_fwf('may/standard_may15frl.txt')\n",
    "may15 = may15_1.merge(may15_2, how='outer', on='ID Number')\n",
    "may15 = may15.merge(may15_3, how='outer', on='ID Number')\n",
    "\n",
    "may16_1 = pd.read_fwf('may/blitz_may16frl.txt')\n",
    "may16_2 = pd.read_fwf('may/rapid_may16frl.txt')\n",
    "may16_3 = pd.read_fwf('may/standard_may16frl.txt')\n",
    "may16 = may16_1.merge(may16_2, how='outer', on='ID Number')\n",
    "may16 = may16.merge(may16_3, how='outer', on='ID Number')\n",
    "\n",
    "may17_1 = pd.read_fwf('may/blitz_may17frl.txt')\n",
    "may17_2 = pd.read_fwf('may/rapid_may17frl.txt')\n",
    "may17_3 = pd.read_fwf('may/standard_may17frl.txt')\n",
    "may17 = may17_1.merge(may17_2, how='outer', on='ID Number')\n",
    "may17 = may17.merge(may17_3, how='outer', on='ID Number')\n",
    "\n",
    "may18_1 = pd.read_fwf('may/blitz_may18frl.txt')\n",
    "may18_2 = pd.read_fwf('may/rapid_may18frl.txt')\n",
    "may18_3 = pd.read_fwf('may/standard_may18frl.txt')\n",
    "may18 = may18_1.merge(may18_2, how='outer', on='ID Number')\n",
    "may18 = may18.merge(may18_3, how='outer', on='ID Number')\n",
    "\n",
    "may19_1 = pd.read_fwf('may/blitz_may19frl.txt')\n",
    "may19_2 = pd.read_fwf('may/rapid_may19frl.txt')\n",
    "may19_3 = pd.read_fwf('may/standard_may19frl.txt')\n",
    "#Clean up a bad entry\n",
    "may19_1['B-day'] = may19_1['B-day'].replace(\"0 198\", \"0\")\n",
    "may19_3['B-day'] = may19_3['B-day'].replace(\"0 198\", \"0\")\n",
    "#Convert back to an int type\n",
    "may19_1['B-day'] = pd.to_numeric(may19_1['B-day'])\n",
    "may19_3['B-day'] = pd.to_numeric(may19_3['B-day'])\n",
    "may19 = may19_1.merge(may19_2, how='outer', on='ID Number')\n",
    "may19 = may19.merge(may19_3, how='outer', on='ID Number')\n",
    "\n",
    "may20_1 = pd.read_fwf('may/blitz_may20frl.txt')\n",
    "may20_2 = pd.read_fwf('may/rapid_may20frl.txt')\n",
    "may20_3 = pd.read_fwf('may/standard_may20frl.txt')\n",
    "#Clean up a bad entry\n",
    "may20_1['B-day'] = may20_1['B-day'].replace(\"0 198\", \"0\")\n",
    "may20_3['B-day'] = may20_3['B-day'].replace(\"0 198\", \"0\")\n",
    "#Convert back to an int type\n",
    "may20_1['B-day'] = pd.to_numeric(may20_1['B-day'])\n",
    "may20_3['B-day'] = pd.to_numeric(may20_3['B-day'])\n",
    "may20 = may20_1.merge(may20_2, how='outer', on=['ID Number', 'B-day'])\n",
    "may20 = may20.merge(may20_3, how='outer', on=['ID Number', 'B-day'])"
   ]
  },
  {
   "cell_type": "code",
   "execution_count": 3,
   "metadata": {},
   "outputs": [
    {
     "name": "stdout",
     "output_type": "stream",
     "text": [
      "218063\n",
      "261556\n",
      "304933\n",
      "347741\n",
      "389868\n",
      "427958\n"
     ]
    }
   ],
   "source": [
    "#Looking at the growth of unique accounts from May 2015 to 2020\n",
    "print(len(may15))\n",
    "print(len(may16))\n",
    "print(len(may17))\n",
    "print(len(may18))\n",
    "print(len(may19))\n",
    "print(len(may20))"
   ]
  },
  {
   "cell_type": "code",
   "execution_count": 4,
   "metadata": {},
   "outputs": [
    {
     "data": {
      "text/plain": [
       "2000s    114382\n",
       "1990s     71156\n",
       "1980s     55080\n",
       "1970s     52456\n",
       "1960s     50814\n",
       "1950s     38017\n",
       "1940s     19294\n",
       "2010s      8716\n",
       "1930s      7691\n",
       "1920s       835\n",
       "1910s         1\n",
       "Name: B-day, dtype: int64"
      ]
     },
     "execution_count": 4,
     "metadata": {},
     "output_type": "execute_result"
    }
   ],
   "source": [
    "#Change the year of birth dates into the correct corresponding decade\n",
    "registered_years_may20 = (may20[may20['B-day'] != 0]['B-day']).apply(lambda x: str(int(np.floor(x/10) * 10)) + 's')\n",
    "#Ignoring 1910 since only 1 person was registered under that decade and it cannot be properly seen on the data viz\n",
    "registered_years_may20.value_counts()"
   ]
  },
  {
   "cell_type": "code",
   "execution_count": 5,
   "metadata": {},
   "outputs": [],
   "source": [
    "#Load in the Lichess dataset\n",
    "data = pd.read_csv('games.csv')"
   ]
  },
  {
   "cell_type": "code",
   "execution_count": 6,
   "metadata": {},
   "outputs": [],
   "source": [
    "#Remove unused columns\n",
    "d2 = data.drop(['id', 'rated', 'created_at', 'last_move_at', 'increment_code', 'white_id', 'black_id', 'opening_name'], axis=1)"
   ]
  },
  {
   "cell_type": "code",
   "execution_count": 7,
   "metadata": {},
   "outputs": [
    {
     "data": {
      "text/plain": [
       "white    0.50\n",
       "black    0.45\n",
       "draw     0.05\n",
       "Name: winner, dtype: float64"
      ]
     },
     "execution_count": 7,
     "metadata": {},
     "output_type": "execute_result"
    }
   ],
   "source": [
    "#Get the rounded percentage chances to win out of recorded victories\n",
    "(d2['winner'].value_counts() / len(d2)).round(2)"
   ]
  },
  {
   "cell_type": "code",
   "execution_count": 8,
   "metadata": {},
   "outputs": [
    {
     "data": {
      "text/plain": [
       "e4     12586\n",
       "d4      4519\n",
       "Nf3      725\n",
       "c4       716\n",
       "e3       416\n",
       "Name: first_move, dtype: int64"
      ]
     },
     "execution_count": 8,
     "metadata": {},
     "output_type": "execute_result"
    }
   ],
   "source": [
    "#Get the five most common starts\n",
    "d2['first_move'] = d2['moves'].apply(lambda x: x[0:3])\n",
    "d2['first_move'].value_counts()[0:5]"
   ]
  }
 ],
 "metadata": {
  "kernelspec": {
   "display_name": "Python 3",
   "language": "python",
   "name": "python3"
  },
  "language_info": {
   "codemirror_mode": {
    "name": "ipython",
    "version": 3
   },
   "file_extension": ".py",
   "mimetype": "text/x-python",
   "name": "python",
   "nbconvert_exporter": "python",
   "pygments_lexer": "ipython3",
   "version": "3.7.3"
  }
 },
 "nbformat": 4,
 "nbformat_minor": 2
}
